{
 "cells": [
  {
   "cell_type": "code",
   "execution_count": 58,
   "metadata": {},
   "outputs": [
    {
     "name": "stdout",
     "output_type": "stream",
     "text": [
      "[[-0.45825016  2.82441998 -1.12732375]\n",
      " [-0.91650033  5.64883995 -2.25464749]]\n",
      "[[ 1.13355064  1.95907474  3.20387125]\n",
      " [ 1.92831576  4.02181721  5.89067936]]\n",
      "[[ 1.106529    1.96943009  3.10343981]\n",
      " [ 1.94436979  4.01567841  5.94525337]]\n",
      "[[ 1.06652546  1.98155653  3.04392362]\n",
      " [ 1.96564746  4.00925779  5.97699547]]\n",
      "[[ 1.03292     1.99094868  3.01680088]\n",
      " [ 1.98309004  4.00449371  5.99126673]]\n",
      "[[  3.95334125   8.01264286  11.97905064]]\n"
     ]
    }
   ],
   "source": [
    "import tensorflow as tf\n",
    "from tensorflow.contrib.layers import fully_connected\n",
    "\n",
    "n_inputs = n_outputs = 3\n",
    "n_hidden = 2\n",
    "learning_rate = 0.01\n",
    "\n",
    "with tf.Graph().as_default():\n",
    "    X = tf.placeholder(tf.float32, shape=[None, n_inputs])\n",
    "    hidden = fully_connected(X, n_hidden, activation_fn=None)\n",
    "    outputs = fully_connected(hidden, n_outputs, activation_fn=None)\n",
    "\n",
    "    error = tf.square(outputs - X)\n",
    "    reconstruction_loss = tf.reduce_mean(error)\n",
    "\n",
    "    optimizer = tf.train.AdamOptimizer(learning_rate)\n",
    "    training_op = optimizer.minimize(reconstruction_loss)\n",
    "\n",
    "    with tf.Session() as sess:\n",
    "        n_iterations = 1000    \n",
    "        X_train = [\n",
    "            [1, 2, 3],\n",
    "            [2, 4, 6]\n",
    "        ]\n",
    "        sess.run(tf.global_variables_initializer())\n",
    "        for iteration in range(n_iterations):\n",
    "            xx, ouputs_val = sess.run([training_op, outputs], feed_dict={X: X_train})\n",
    "            if iteration%200==0:\n",
    "                print(ouputs_val)\n",
    "        output_val = outputs.eval(feed_dict={X: [[4, 8, 12]]})\n",
    "\n",
    "print(output_val)"
   ]
  },
  {
   "cell_type": "markdown",
   "metadata": {},
   "source": [
    "---\n",
    "\n",
    "---\n",
    "\n"
   ]
  },
  {
   "cell_type": "markdown",
   "metadata": {},
   "source": [
    "## TensorFlow Implementation\n",
    "\n",
    "mnist에 오토인코딩을 적용해 봅시다. 평범한 다변수 딥러닝을 구축하는 것과 비슷합니다.\n",
    "\n",
    "minst는 [28 by 28] 형태의 데이타로 한개의 인스턴스는 784차원으로 이루어집니다.\n",
    "\n",
    "Codings까지 포함해 3개의 hidden 레이어를 사용해 봅시다. 아래 그림과 같은 구조입니다.\n",
    "\n",
    "![](1.png)\n",
    "\n",
    "###### (He 초기화, ELU 활성함수, l2 정규화) <= 이게 무슨뜻인가요?\n",
    "\n",
    "지금은 일단 학습하는 코드만 짜봅니다! 학습에 대한 테스트는 뒤에서 설명합니다."
   ]
  },
  {
   "cell_type": "code",
   "execution_count": 79,
   "metadata": {},
   "outputs": [
    {
     "name": "stdout",
     "output_type": "stream",
     "text": [
      "Extracting MNIST_data/train-images-idx3-ubyte.gz\n",
      "Extracting MNIST_data/train-labels-idx1-ubyte.gz\n",
      "Extracting MNIST_data/t10k-images-idx3-ubyte.gz\n",
      "Extracting MNIST_data/t10k-labels-idx1-ubyte.gz\n",
      "5.247266054153442\n"
     ]
    }
   ],
   "source": [
    "import tensorflow as tf\n",
    "from tensorflow.contrib.layers import fully_connected\n",
    "from tensorflow.examples.tutorials.mnist import input_data\n",
    "mnist = input_data.read_data_sets(\"MNIST_data/\", one_hot=True)\n",
    "import time\n",
    "\n",
    "n_inputs = n_outputs = 28 * 28\n",
    "n_hidden1 = n_hidden3 = 300\n",
    "n_hidden2 = 150\n",
    "learning_rate = 0.01\n",
    "l2_reg = 0.001\n",
    "\n",
    "with tf.Graph().as_default():\n",
    "    \n",
    "    X = tf.placeholder(tf.float32, shape=[None, n_inputs])\n",
    "    with tf.contrib.framework.arg_scope(\n",
    "        [fully_connected],\n",
    "        activation_fn=tf.nn.elu,\n",
    "        weights_initializer=tf.contrib.layers.variance_scaling_initializer(),\n",
    "        weights_regularizer=tf.contrib.layers.l2_regularizer(l2_reg)\n",
    "    ):\n",
    "        hidden1 = fully_connected(X, n_hidden1)\n",
    "        hidden2 = fully_connected(hidden1, n_hidden2)\n",
    "        hidden3 = fully_connected(hidden2, n_hidden3)\n",
    "        outputs = fully_connected(hidden3, n_outputs, activation_fn=None)\n",
    "        \n",
    "    reconstruction_loss = tf.reduce_mean(tf.square(outputs - X))\n",
    "    reg_losses = tf.get_collection(tf.GraphKeys.REGULARIZATION_LOSSES)\n",
    "    loss = tf.add_n([reconstruction_loss] + reg_losses)\n",
    "    \n",
    "    optimizer = tf.train.AdamOptimizer(learning_rate)\n",
    "    training_op = optimizer.minimize(loss)\n",
    "    \n",
    "    with tf.Session() as sess:\n",
    "        \n",
    "        start_time = time.time()\n",
    "        \n",
    "        n_epochs = 1\n",
    "        batch_size = 100\n",
    "        \n",
    "        sess.run(tf.global_variables_initializer())\n",
    "        for epoch in range(n_epochs):\n",
    "            n_batches = mnist.train.num_examples // batch_size\n",
    "            for iteration in range(n_batches):\n",
    "                X_batch, y_batch = mnist.train.next_batch(batch_size)\n",
    "                xx, hidden2_val = sess.run([training_op, hidden2], feed_dict={X: X_batch})\n",
    "                \n",
    "print(time.time() - start_time)"
   ]
  },
  {
   "cell_type": "markdown",
   "metadata": {},
   "source": [
    "## Tying Weights\n",
    "\n",
    "위에서 만든 오토인코더처럼 디코더와 인코더가 대칭의 구조를 가지면, 디코더와 인코더 레이어의 가중치가 같습니다. \n",
    "\n",
    "둘을 묶어주면 모델의 가중치 개수가 반으로 줄어들고, 과적합 위험도 줄어듭니다.\n",
    "\n",
    "수식으로 표현하자면, 오토인코더가 N개의 레이어를 가진다면 각 레이어들은 다음과 같이 표현 가능합니다.\n",
    "\n",
    "### $W_{N-L+1} = W_L^T$ \n",
    "\n",
    "#### $W_L$은 $L$번째와 $L+1$번째 레이어 사이의 Weight를 의미합니다\n",
    "\n",
    "### $(L = 1,2,3,..., \\frac{N}{2})$\n",
    "\n",
    "fully_connected 함수로는 이를 구현하는게 다소 까다로우니 코드를 수정하겠습니다."
   ]
  },
  {
   "cell_type": "code",
   "execution_count": 77,
   "metadata": {},
   "outputs": [
    {
     "name": "stdout",
     "output_type": "stream",
     "text": [
      "Extracting MNIST_data/train-images-idx3-ubyte.gz\n",
      "Extracting MNIST_data/train-labels-idx1-ubyte.gz\n",
      "Extracting MNIST_data/t10k-images-idx3-ubyte.gz\n",
      "Extracting MNIST_data/t10k-labels-idx1-ubyte.gz\n",
      "6.284913539886475\n"
     ]
    }
   ],
   "source": [
    "import tensorflow as tf\n",
    "from tensorflow.contrib.layers import fully_connected\n",
    "from tensorflow.examples.tutorials.mnist import input_data\n",
    "mnist = input_data.read_data_sets(\"MNIST_data/\", one_hot=True)\n",
    "import time\n",
    "\n",
    "n_inputs = n_outputs = 28 * 28\n",
    "n_hidden1 = n_hidden3 = 300\n",
    "n_hidden2 = 150\n",
    "learning_rate = 0.01\n",
    "l2_reg = 0.001\n",
    "\n",
    "with tf.Graph().as_default():\n",
    "    \n",
    "    activation = tf.nn.elu\n",
    "    regularizer = tf.contrib.layers.l2_regularizer(l2_reg)\n",
    "    initializer = tf.contrib.layers.variance_scaling_initializer()\n",
    "    \n",
    "    X = tf.placeholder(tf.float32, shape=[None, n_inputs])\n",
    "    \n",
    "    weights1_init = initializer([n_inputs, n_hidden1])\n",
    "    weights2_init = initializer([n_hidden1, n_hidden2])\n",
    "\n",
    "    weights1 = tf.Variable(weights1_init, dtype=tf.float32)\n",
    "    weights2 = tf.Variable(weights2_init, dtype=tf.float32)\n",
    "    weights3 = tf.transpose(weights2)    \n",
    "    weights4 = tf.transpose(weights1)\n",
    "    # 웨이트 12는 34와 묶였습니다.\n",
    "\n",
    "    biases1 = tf.Variable(tf.zeros(n_hidden1))\n",
    "    biases2 = tf.Variable(tf.zeros(n_hidden2))\n",
    "    biases3 = tf.Variable(tf.zeros(n_hidden3))\n",
    "    biases4 = tf.Variable(tf.zeros(n_outputs))\n",
    "    # 바이어스들은 정규화되지도 않고 묶이지도 않는다는점. 중요합니다!\n",
    "    \n",
    "    hidden1 = activation(tf.matmul(X, weights1) + biases1)\n",
    "    hidden2 = activation(tf.matmul(hidden1, weights2) + biases2)    \n",
    "    hidden3 = activation(tf.matmul(hidden2, weights3) + biases3)    \n",
    "    outputs = tf.matmul(hidden3, weights4) + biases4\n",
    "    \n",
    "    reconstruction_loss = tf.reduce_mean(tf.square(outputs - X))\n",
    "    reg_loss = regularizer(weights1) + regularizer(weights2)\n",
    "    # 웨이트 1과 2만 정규화 해주면 됩니다! \n",
    "    loss = reconstruction_loss + reg_loss\n",
    "    \n",
    "    optimizer = tf.train.AdamOptimizer(learning_rate)\n",
    "    training_op = optimizer.minimize(loss)\n",
    "    \n",
    "    with tf.Session() as sess:\n",
    "        \n",
    "        start_time = time.time()\n",
    "        \n",
    "        n_epochs = 1\n",
    "        batch_size = 100\n",
    "        \n",
    "        sess.run(tf.global_variables_initializer())\n",
    "        for epoch in range(n_epochs):\n",
    "            n_batches = mnist.train.num_examples // batch_size\n",
    "            for iteration in range(n_batches):\n",
    "                X_batch, y_batch = mnist.train.next_batch(batch_size)\n",
    "                sess.run(training_op, feed_dict={X: X_batch})\n",
    "\n",
    "print(time.time() - start_time)"
   ]
  },
  {
   "cell_type": "markdown",
   "metadata": {},
   "source": [
    "## Training One Autoencoder at a Time\n",
    "\n",
    "위 지금까지 데이터 마다 인코더 전체를 학습시켰습니다. 이러지 말고 인코더를 한개씩 학습한다음 쌓아보면 어떨까요.\n",
    "\n",
    "이 방식으로 Deep한 오토인코더를 학습시킨다면 훨씬 빠른 학습이 가능합니다.\n",
    "\n",
    "![](2.png)\n",
    "\n",
    "텐서플로우에서는 단계마다 다른 그래프를 사용하여 구현 가능합니다. \n",
    "\n",
    "그래프를 하나만 쓰는 경우에는 아래 그림처럼 추가적인 작업이 필요합니다.\n",
    "\n",
    "![](3.png)\n",
    "\n",
    "텐서플로우로는 다음처럼 표현 가능합니다.\n",
    "\n",
    "```python\n",
    "optimizer = tf.train.AdamOptimizer(learning_rate)\n",
    "\n",
    "with tf.name_scope(\"phase1\"):\n",
    "    phase1_outputs = tf.matmul(hidden1, weights4) + biases4 \n",
    "    phase1_reconstruction_loss = tf.reduce_mean(tf.square(phase1_outputs - X)) \n",
    "    phase1_reg_loss = regularizer(weights1) + regularizer(weights4) \n",
    "    phase1_loss = phase1_reconstruction_loss + phase1_reg_loss \n",
    "    phase1_training_op = optimizer.minimize(phase1_loss)\n",
    "\n",
    "with tf.name_scope(\"phase2\"):\n",
    "    phase2_reconstruction_loss = tf.reduce_mean(tf.square(hidden3 - hidden1)) \n",
    "    phase2_reg_loss = regularizer(weights2) + regularizer(weights3) \n",
    "    phase2_loss = phase2_reconstruction_loss + phase2_reg_loss\n",
    "    train_vars = [weights2, biases2, weights3, biases3]\n",
    "    phase2_training_op = optimizer.minimize(phase2_loss, var_list=train_vars)\n",
    "```"
   ]
  },
  {
   "cell_type": "markdown",
   "metadata": {},
   "source": [
    "## Visualizing the Reconstructions\n",
    "\n",
    "오토인코더가 잘 학습되었는지 확인하기 위해, 입력과 출력을 비교해 봅시다!"
   ]
  },
  {
   "cell_type": "code",
   "execution_count": 116,
   "metadata": {},
   "outputs": [
    {
     "name": "stdout",
     "output_type": "stream",
     "text": [
      "Extracting MNIST_data/train-images-idx3-ubyte.gz\n",
      "Extracting MNIST_data/train-labels-idx1-ubyte.gz\n",
      "Extracting MNIST_data/t10k-images-idx3-ubyte.gz\n",
      "Extracting MNIST_data/t10k-labels-idx1-ubyte.gz\n"
     ]
    }
   ],
   "source": [
    "import tensorflow as tf\n",
    "from tensorflow.contrib.layers import fully_connected\n",
    "from tensorflow.examples.tutorials.mnist import input_data\n",
    "mnist = input_data.read_data_sets(\"MNIST_data/\", one_hot=True)\n",
    "import time\n",
    "\n",
    "n_inputs = n_outputs = 28 * 28\n",
    "n_hidden1 = n_hidden3 = 300\n",
    "n_hidden2 = 150\n",
    "learning_rate = 0.01\n",
    "l2_reg = 0.001\n",
    "\n",
    "with tf.Graph().as_default():\n",
    "    \n",
    "    activation = tf.nn.elu\n",
    "    regularizer = tf.contrib.layers.l2_regularizer(l2_reg)\n",
    "    initializer = tf.contrib.layers.variance_scaling_initializer()\n",
    "    \n",
    "    X = tf.placeholder(tf.float32, shape=[None, n_inputs])\n",
    "    \n",
    "    weights1_init = initializer([n_inputs, n_hidden1])\n",
    "    weights2_init = initializer([n_hidden1, n_hidden2])\n",
    "\n",
    "    weights1 = tf.Variable(weights1_init, dtype=tf.float32)\n",
    "    weights2 = tf.Variable(weights2_init, dtype=tf.float32)\n",
    "    weights3 = tf.transpose(weights2)    \n",
    "    weights4 = tf.transpose(weights1)\n",
    "    # 웨이트 12는 34와 묶였습니다.\n",
    "\n",
    "    biases1 = tf.Variable(tf.zeros(n_hidden1))\n",
    "    biases2 = tf.Variable(tf.zeros(n_hidden2))\n",
    "    biases3 = tf.Variable(tf.zeros(n_hidden3))\n",
    "    biases4 = tf.Variable(tf.zeros(n_outputs))\n",
    "    # 바이어스들은 정규화되지도 않고 묶이지도 않는다는점. 중요합니다!\n",
    "    \n",
    "    hidden1 = activation(tf.matmul(X, weights1) + biases1)\n",
    "    hidden2 = activation(tf.matmul(hidden1, weights2) + biases2)    \n",
    "    hidden3 = activation(tf.matmul(hidden2, weights3) + biases3)    \n",
    "    outputs = tf.matmul(hidden3, weights4) + biases4\n",
    "    \n",
    "    reconstruction_loss = tf.reduce_mean(tf.square(outputs - X))\n",
    "    reg_loss = regularizer(weights1) + regularizer(weights2)\n",
    "    # 웨이트 1과 2만 정규화 해주면 됩니다! \n",
    "    loss = reconstruction_loss + reg_loss\n",
    "    \n",
    "    optimizer = tf.train.AdamOptimizer(learning_rate)\n",
    "    training_op = optimizer.minimize(loss)\n",
    "    \n",
    "    with tf.Session() as sess:\n",
    "        \n",
    "        n_epochs = 1\n",
    "        batch_size = 100\n",
    "        \n",
    "        sess.run(tf.global_variables_initializer())\n",
    "        for epoch in range(n_epochs):\n",
    "            n_batches = mnist.train.num_examples // batch_size\n",
    "            for iteration in range(n_batches):\n",
    "                X_batch, y_batch = mnist.train.next_batch(batch_size)\n",
    "                sess.run(training_op, feed_dict={X: X_batch})\n",
    "        \n",
    "        n_test_digits = 2\n",
    "        X_test = mnist.test.images[:n_test_digits]\n",
    "        outputs_val = outputs.eval(feed_dict={X: X_test})\n",
    "        weights1_val = weights1.eval()"
   ]
  },
  {
   "cell_type": "code",
   "execution_count": 117,
   "metadata": {},
   "outputs": [
    {
     "data": {
      "image/png": "[encoded data removed]",
      "text/plain": [
       "<matplotlib.figure.Figure at 0x7f454a334400>"
      ]
     },
     "metadata": {},
     "output_type": "display_data"
    },
    {
     "data": {
      "image/png": "[encoded data removed]",
      "text/plain": [
       "<matplotlib.figure.Figure at 0x7f454a267fd0>"
      ]
     },
     "metadata": {},
     "output_type": "display_data"
    },
    {
     "data": {
      "image/png": "[encoded data removed]",
      "text/plain": [
       "<matplotlib.figure.Figure at 0x7f454a243278>"
      ]
     },
     "metadata": {},
     "output_type": "display_data"
    },
    {
     "data": {
      "image/png": "[encoded data removed]",
      "text/plain": [
       "<matplotlib.figure.Figure at 0x7f4548d13ac8>"
      ]
     },
     "metadata": {},
     "output_type": "display_data"
    }
   ],
   "source": [
    "from matplotlib import pyplot as plt\n",
    "\n",
    "def plot_image(image, shape=[28,28]):\n",
    "    plt.imshow(image.reshape(shape), cmap=\"Greys\", interpolation=\"nearest\")\n",
    "    plt.axis(\"off\")\n",
    "    plt.show()\n",
    "    \n",
    "for digit_index in range(n_test_digits):\n",
    "    plt.subplot(n_test_digits, 2, digit_index * 2 + 1)\n",
    "    plot_image(X_test[digit_index])\n",
    "    plt.subplot(n_test_digits, 2, digit_index * 2 + 2)\n",
    "    plot_image(outputs_val[digit_index])"
   ]
  },
  {
   "cell_type": "markdown",
   "metadata": {},
   "source": [
    "## Visualizing Features\n",
    "\n",
    "비교사 학습인 오토인코더를 응용해서 데이터의 특징을 찾아낼 수 있습니다.\n",
    "\n",
    "사진에서 고양이를 탐지하는 기술로 예를 들어보겠습니다. 고양이가 없는 사진을 학습하다가 고양이가 있는 사진이 나타나면,\n",
    "\n",
    "오토인코더 안의 뉴런들이 이전에 없던 데이타의 특징으로 인해 고양이 사진에 대해 활발한 뉴런활동을 보여줄 것입니다.\n",
    "\n",
    "이는 가장 위의 (디코더와 가장 가까운) 히든 레이어에서 가장 부각됩니다. \n",
    "\n",
    "가장자리 레이어일수록 데이터에서 상대적으로 알아보기 쉽고 큰 특징을 잡아내기 때문입니다.\n",
    "\n",
    "방금전의 mnist를 학습한 오토인코더의 첫벗째 히든 레이어를 살펴보겠습니다.\n",
    "\n",
    "이 레이어에서 처음 다섯개의 뉴런은 데이타로부터 어떤 특징을 잡아냈는지 살펴보겠습니다."
   ]
  },
  {
   "cell_type": "code",
   "execution_count": 121,
   "metadata": {},
   "outputs": [
    {
     "data": {
      "image/png": "[encoded data removed]",
      "text/plain": [
       "<matplotlib.figure.Figure at 0x7f4549d8ffd0>"
      ]
     },
     "metadata": {},
     "output_type": "display_data"
    },
    {
     "data": {
      "image/png": "[encoded data removed]",
      "text/plain": [
       "<matplotlib.figure.Figure at 0x7f454b037eb8>"
      ]
     },
     "metadata": {},
     "output_type": "display_data"
    },
    {
     "data": {
      "image/png": "[encoded data removed]",
      "text/plain": [
       "<matplotlib.figure.Figure at 0x7f454b840dd8>"
      ]
     },
     "metadata": {},
     "output_type": "display_data"
    },
    {
     "data": {
      "image/png": "[encoded data removed]",
      "text/plain": [
       "<matplotlib.figure.Figure at 0x7f4551df67b8>"
      ]
     },
     "metadata": {},
     "output_type": "display_data"
    },
    {
     "data": {
      "image/png": "[encoded data removed]",
      "text/plain": [
       "<matplotlib.figure.Figure at 0x7f45497ff6a0>"
      ]
     },
     "metadata": {},
     "output_type": "display_data"
    }
   ],
   "source": [
    "for i in range(5): \n",
    "    plt.subplot(1, 5, i + 1)\n",
    "    plot_image(weights1_val.T[i])"
   ]
  },
  {
   "cell_type": "markdown",
   "metadata": {
    "collapsed": true
   },
   "source": [
    "또는 오토인코더에 임의의 입력 이미지를 제공하고 관심있는 뉴런의 활성화를 관찰 후 \n",
    "\n",
    "역전파를 수행하여 뉴런이 더 많이 활성화되는 방식으로 이미지를 조정하는 것입니다. \n",
    "\n",
    "이 과정을 반복하면 이미지가 점차적으로 가장 뉴런에게 흥미로운 이미지로 바뀝니다. \n",
    "\n",
    "이것은 뉴런이 찾고있는 특징의 입력을 시각화하는 유용한 기술입니다."
   ]
  },
  {
   "cell_type": "markdown",
   "metadata": {},
   "source": [
    "## Unsupervised Pretraining Using Stacked Autoencoders"
   ]
  },
  {
   "cell_type": "markdown",
   "metadata": {},
   "source": [
    "신경망 알고리즘에서 과제 수행을 위한 데이터가 부족하다면 비슷한 과제를 수행하는 신경망 알고리즘을 찾고\n",
    "\n",
    "그 신경망의 하위 계층을 재사용하는 방법이 있습니다. 예를 들어 아시아인 얼굴을 구분하는 신경망을 만들고자 할 때,\n",
    "\n",
    "일단 이미 존재하는 사람의 얼굴을 학습한 분류기를 사용해 적은데이타로 '얼굴'에 대한 학습이 완료된 상태에서\n",
    "\n",
    "아시아인을 학습할 수 있습니다.\n",
    "\n",
    "같은 아이디어로, 오토인코더를 이용해서도 응용 가능합니다.\n",
    "\n",
    "![](4.png)\n",
    "\n",
    "###### 볼츠만 머신 이야기가 나옴.. "
   ]
  },
  {
   "cell_type": "markdown",
   "metadata": {},
   "source": [
    "## Denoising Autoencoders\n",
    "\n",
    "데이타에 노이즈를 추가하고 최종 출력은 잡음 없는 데이타가 되도록 교육하는 방법도 있습니다.\n",
    "\n",
    "이렇게하면 자동 코더가 입력을 출력에 쉽게 복사하지 못하고 데이터에서 패턴을 찾아내야합니다.\n",
    "\n",
    "![](5.png)\n",
    "\n",
    "텐서플로우로 구현하는 것은 간단합니다. (드롭아웃 예제)\n",
    "\n",
    "```python\n",
    "keep_prob = 0.7\n",
    "\n",
    "X = tf.placeholder(tf.float32, shape=[None, n_inputs])\n",
    "\n",
    "is_training = tf.placeholder_with_default(False, shape=(), name='is_training')\n",
    "X_drop = dropout(X, keep_prob, is_training=is_training)\n",
    "\n",
    "[...]\n",
    "hidden1 = activation(tf.matmul(X_noisy, weights1) + biases1)\n",
    "[...]\n",
    "reconstruction_loss = tf.reduce_mean(tf.square(outputs - X)) # MSE \n",
    "[...]\n",
    "with tf.Session() as sess:\n",
    "    sess.run(training_op, feed_dict={X: X_batch, is_training: True})\n",
    "    # 테스트 과정에서는 False\n",
    "    [...]\n",
    "```"
   ]
  },
  {
   "cell_type": "markdown",
   "metadata": {},
   "source": [
    "## Sparse Autoencoders\n",
    "\n",
    "Sparsity를 이용해 더 효과적으로 특징을 추출 할 수 있습니다.\n",
    "\n",
    "비용 함수에 적절한 항을 추가함으로써, 오토인코더가 코딩 레이어 뉴런의 활성화 정도를 줄이도록 유도합니다.\n",
    "\n",
    "결과적으로 작은 특징들의 조합으로 데이타를 표현하는 인코더가 만들어 지게 됩니다.\n",
    "\n",
    "일반적으로 이로인해 코딩 레이어의 각 뉴런들이 유용한 특징들을 잘 찾아내게 됩니다.\n",
    "\n",
    "###### \"비용 함수에 적절한 항을 추가함으로써, 오토인코더가 코딩 레이어의 활성 뉴런 수를 줄이도록 유도합니다. \"\n",
    "\n",
    "위 문장을 실현하기 위해서 반복되는 트레이닝 과정에서 코딩 레이어의 각 뉴런이 얼마나 활성화 되는지 측정해야합니다. \n",
    "\n",
    "뉴런당 평균적으로 얼마나 활성화 되는지를 비용함수에 추가해 주고 활동량이 큰 뉴런에 패널티를 줍니다.\n",
    "\n",
    "예를 들어 뉴런의 평균 활성화 횟수가 0.3이지만 타겟 Sparsity가 0.1이라면 페널티를 적용하게 됩니다.\n",
    "\n",
    "![](6.png)\n",
    "\n",
    "###### 으으..."
   ]
  },
  {
   "cell_type": "code",
   "execution_count": null,
   "metadata": {
    "collapsed": true
   },
   "outputs": [],
   "source": []
  },
  {
   "cell_type": "markdown",
   "metadata": {},
   "source": [
    "## Variational Autoencoders\n",
    "\n",
    "Variational 오토인코더는 가장 인기있는 오토인코더 종류중 하나이며, 지금까지 논의한 모든 오토인코딩과는 상당히 다릅니다.\n",
    "\n",
    "확률론적 오토인코더이며, 트레이닝 이후에도 출력이 확률적으로 결정됩니다.\n",
    "\n",
    "또한 Generative 오토인코더입니다. 트레이닝데이타에서 샘플링 한 것처럼 보이는 새로운 인스턴스를 생성 할 수 있습니다.\n",
    "\n",
    "![](7.png)"
   ]
  },
  {
   "cell_type": "markdown",
   "metadata": {},
   "source": [
    "##### 으으 ..."
   ]
  }
 ],
 "metadata": {
  "kernelspec": {
   "display_name": "Python 3",
   "language": "python",
   "name": "python3"
  },
  "language_info": {
   "codemirror_mode": {
    "name": "ipython",
    "version": 3
   },
   "file_extension": ".py",
   "mimetype": "text/x-python",
   "name": "python",
   "nbconvert_exporter": "python",
   "pygments_lexer": "ipython3",
   "version": "3.6.1"
  }
 },
 "nbformat": 4,
 "nbformat_minor": 2
}
